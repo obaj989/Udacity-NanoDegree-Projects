{
 "cells": [
  {
   "cell_type": "code",
   "execution_count": 1,
   "metadata": {
    "editable": true
   },
   "outputs": [],
   "source": [
    "import psycopg2\n",
    "import configparser"
   ]
  },
  {
   "cell_type": "code",
   "execution_count": 2,
   "metadata": {
    "editable": true
   },
   "outputs": [],
   "source": [
    "%run create_tables.py"
   ]
  },
  {
   "cell_type": "code",
   "execution_count": 3,
   "metadata": {
    "editable": true
   },
   "outputs": [],
   "source": [
    "%run etl.py"
   ]
  },
  {
   "cell_type": "code",
   "execution_count": 4,
   "metadata": {
    "editable": true
   },
   "outputs": [],
   "source": [
    "config = configparser.ConfigParser()\n",
    "config.read('dwh.cfg')\n",
    "\n",
    "conn = psycopg2.connect(\"host={} dbname={} user={} password={} port={}\".format(*config['CLUSTER'].values()))\n",
    "cur = conn.cursor()"
   ]
  },
  {
   "cell_type": "code",
   "execution_count": 16,
   "metadata": {
    "editable": true
   },
   "outputs": [
    {
     "name": "stdout",
     "output_type": "stream",
     "text": [
      "[(8056,)]\n",
      "[(14896,)]\n",
      "[(6820,)]\n",
      "[(97,)]\n",
      "[(10025,)]\n",
      "[(14896,)]\n",
      "[(6813,)]\n"
     ]
    }
   ],
   "source": [
    "tables = ['staging_events', 'staging_songs', 'songplays',\n",
    "          'users', 'artists', 'songs', 'times']\n",
    "for table in tables:\n",
    "    cur.execute(f\"SELECT COUNT(*) FROM {table}\")\n",
    "    print(cur.fetchall())"
   ]
  },
  {
   "cell_type": "code",
   "execution_count": 17,
   "metadata": {
    "editable": true
   },
   "outputs": [
    {
     "data": {
      "text/plain": [
       "[(1910,\n",
       "  datetime.datetime(2018, 11, 2, 18, 36, 53, 796000),\n",
       "  71,\n",
       "  'Ayleen',\n",
       "  'Wise',\n",
       "  'F',\n",
       "  'Pop Is Dead',\n",
       "  'ARH6W4X1187B99274F'),\n",
       " (1021,\n",
       "  datetime.datetime(2018, 11, 8, 10, 7, 12, 796000),\n",
       "  80,\n",
       "  'Tegan',\n",
       "  'Levine',\n",
       "  'F',\n",
       "  'A Lo Clasico',\n",
       "  'ARBNXYA1187FB51C50'),\n",
       " (6060,\n",
       "  datetime.datetime(2018, 11, 17, 23, 49, 45, 796000),\n",
       "  70,\n",
       "  'Jaleah',\n",
       "  'Hayes',\n",
       "  'F',\n",
       "  'Caught Up In You',\n",
       "  'ARHO39G1187FB4E31B'),\n",
       " (6052,\n",
       "  datetime.datetime(2018, 11, 17, 23, 13, 41, 796000),\n",
       "  70,\n",
       "  'Jaleah',\n",
       "  'Hayes',\n",
       "  'F',\n",
       "  'Caught Up In You',\n",
       "  'ARHO39G1187FB4E31B'),\n",
       " (2539,\n",
       "  datetime.datetime(2018, 11, 16, 10, 43, 30, 796000),\n",
       "  80,\n",
       "  'Tegan',\n",
       "  'Levine',\n",
       "  'F',\n",
       "  'God Smack',\n",
       "  'ARSW5F51187FB4CFC9')]"
      ]
     },
     "execution_count": 17,
     "metadata": {},
     "output_type": "execute_result"
    }
   ],
   "source": [
    "cur.execute(\"\"\"SELECT \n",
    "                    s.songplay_id, \n",
    "                    s.start_time,\n",
    "                    s.user_id,\n",
    "                    u.first_name,\n",
    "                    u.last_name,\n",
    "                    u.gender,\n",
    "                    sn.title,\n",
    "                    sn.artist_id\n",
    "                FROM songplays s JOIN songs sn ON s.song_id = sn.song_id\n",
    "                JOIN users u ON s.user_id = u.user_id LIMIT 5\"\"\")\n",
    "cur.fetchall()"
   ]
  },
  {
   "cell_type": "code",
   "execution_count": 9,
   "metadata": {
    "editable": true
   },
   "outputs": [],
   "source": [
    "cur.execute(\"rollback\")"
   ]
  }
 ],
 "metadata": {
  "kernelspec": {
   "display_name": "Python 3",
   "language": "python",
   "name": "python3"
  },
  "language_info": {
   "codemirror_mode": {
    "name": "ipython",
    "version": 3
   },
   "file_extension": ".py",
   "mimetype": "text/x-python",
   "name": "python",
   "nbconvert_exporter": "python",
   "pygments_lexer": "ipython3",
   "version": "3.6.3"
  }
 },
 "nbformat": 4,
 "nbformat_minor": 4
}
